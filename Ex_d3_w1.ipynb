{
 "cells": [
  {
   "cell_type": "markdown",
   "id": "e554eb40",
   "metadata": {},
   "source": [
    "Exercise 1 : Add Two Numbers "
   ]
  },
  {
   "cell_type": "code",
   "execution_count": 1,
   "id": "4c03995d",
   "metadata": {},
   "outputs": [
    {
     "name": "stdout",
     "output_type": "stream",
     "text": [
      "8\n",
      "30\n"
     ]
    }
   ],
   "source": [
    "# 1 Write a function add_two_numbers that takes two numbers as parameters and returns their sum.\n",
    "def add_two_numbers(a, b):\n",
    "    return a + b\n",
    "\n",
    "print(add_two_numbers(3, 5))\n",
    "print(add_two_numbers(10, 20))"
   ]
  },
  {
   "cell_type": "markdown",
   "id": "bd1af581",
   "metadata": {},
   "source": [
    "Exercise 2 : Print a Greeting"
   ]
  },
  {
   "cell_type": "code",
   "execution_count": 2,
   "id": "232b9ede",
   "metadata": {},
   "outputs": [
    {
     "name": "stdout",
     "output_type": "stream",
     "text": [
      "Hello, Alice!\n",
      "Hello, Bob!\n"
     ]
    }
   ],
   "source": [
    "# Write a function greet that takes one parameter, a person’s name, and prints a greeting message like “Hello, [name]!”.\n",
    "\n",
    "def greet(name):\n",
    "    print(f\"Hello, {name}!\")\n",
    "\n",
    "greet(\"Alice\")\n",
    "greet(\"Bob\")"
   ]
  },
  {
   "cell_type": "markdown",
   "id": "ad6e8d1b",
   "metadata": {},
   "source": [
    " Exercise 3 : Check if Number is Even or Odd "
   ]
  },
  {
   "cell_type": "code",
   "execution_count": 3,
   "id": "17c0cfa9",
   "metadata": {},
   "outputs": [
    {
     "name": "stdout",
     "output_type": "stream",
     "text": [
      "Even\n",
      "Odd\n"
     ]
    }
   ],
   "source": [
    "# Write a function check_even_odd that takes one number and prints “Even” if the number is even, and “Odd” if the number is odd.\n",
    "\n",
    "def check_even_odd(number):\n",
    "    if number % 2 == 0:\n",
    "        print(\"Even\")\n",
    "    else:\n",
    "        print(\"Odd\")\n",
    "\n",
    "check_even_odd(4)\n",
    "check_even_odd(7)"
   ]
  },
  {
   "cell_type": "markdown",
   "id": "4d1faed9",
   "metadata": {},
   "source": [
    "Exercise 4 : Sum of Numbers in a List "
   ]
  },
  {
   "cell_type": "code",
   "execution_count": 4,
   "id": "1b3b1d4a",
   "metadata": {},
   "outputs": [
    {
     "name": "stdout",
     "output_type": "stream",
     "text": [
      "10\n",
      "15\n"
     ]
    }
   ],
   "source": [
    "# Write a function sum_list that takes a list of numbers as a parameter and returns the sum of all numbers in the list.\n",
    "\n",
    "def sum_list(numbers):\n",
    "    return sum(numbers)\n",
    "\n",
    "print(sum_list([1, 2, 3, 4]))\n",
    "print(sum_list([5, 5, 5]))"
   ]
  },
  {
   "cell_type": "markdown",
   "id": "401b2e79",
   "metadata": {},
   "source": [
    "Exercise 5 : Print Days of the Week "
   ]
  },
  {
   "cell_type": "code",
   "execution_count": 5,
   "id": "3d42acda",
   "metadata": {},
   "outputs": [
    {
     "name": "stdout",
     "output_type": "stream",
     "text": [
      "Sunday\n",
      "Monday\n",
      "Tuesday\n",
      "Wednesday\n",
      "Thursday\n",
      "Friday\n",
      "Saturday\n"
     ]
    }
   ],
   "source": [
    "# Write a function print_days that prints the days of the week (Sunday, Monday, Tuesday, etc.) using a loop.\n",
    "\n",
    "def print_days():\n",
    "    days = [\"Sunday\", \"Monday\", \"Tuesday\", \"Wednesday\", \"Thursday\", \"Friday\", \"Saturday\"]\n",
    "    for day in days:\n",
    "        print(day)\n",
    "print_days()"
   ]
  },
  {
   "cell_type": "markdown",
   "id": "a17d32ec",
   "metadata": {},
   "source": [
    "Exercise 6 : Check if Number is Positive, Negative, or Zero "
   ]
  },
  {
   "cell_type": "code",
   "execution_count": 6,
   "id": "6711ab64",
   "metadata": {},
   "outputs": [
    {
     "name": "stdout",
     "output_type": "stream",
     "text": [
      "Positive\n",
      "Negative\n",
      "Zero\n"
     ]
    }
   ],
   "source": [
    "# Write a function check_sign that takes a number and prints whether the number is positive, negative, or zero.\n",
    "def check_sign(number):\n",
    "    if number > 0:\n",
    "        print(\"Positive\")\n",
    "    elif number < 0:\n",
    "        print(\"Negative\")\n",
    "    else:\n",
    "        print(\"Zero\")\n",
    "check_sign(10)\n",
    "check_sign(-5)\n",
    "check_sign(0)"
   ]
  },
  {
   "cell_type": "markdown",
   "id": "8df640c6",
   "metadata": {},
   "source": [
    " Exercise 7 : Repeat a Word "
   ]
  },
  {
   "cell_type": "code",
   "execution_count": 7,
   "id": "62fa3093",
   "metadata": {},
   "outputs": [
    {
     "name": "stdout",
     "output_type": "stream",
     "text": [
      "hello\n",
      "hello\n",
      "hello\n",
      "goodbye\n",
      "goodbye\n"
     ]
    }
   ],
   "source": [
    "# Write a function repeat_word that takes a word and a number as parameters and prints the word that many times.\n",
    "\n",
    "def repeat_word(word, times):\n",
    "    for _ in range(times):\n",
    "        print(word)\n",
    "repeat_word(\"hello\", 3)\n",
    "repeat_word(\"goodbye\", 2)"
   ]
  },
  {
   "cell_type": "markdown",
   "id": "4b077b58",
   "metadata": {},
   "source": [
    "Exercises Functions - Intermediate"
   ]
  },
  {
   "cell_type": "markdown",
   "id": "5df2c80b",
   "metadata": {},
   "source": [
    "Exercise 1 : Return the Largest Number "
   ]
  },
  {
   "cell_type": "code",
   "execution_count": 8,
   "id": "7c0c44ef",
   "metadata": {},
   "outputs": [
    {
     "name": "stdout",
     "output_type": "stream",
     "text": [
      "4\n",
      "20\n"
     ]
    }
   ],
   "source": [
    "# Write a function find_largest that takes a list of numbers and returns the largest number in the list.\n",
    "\n",
    "def find_largest(numbers):\n",
    "    return max(numbers)\n",
    "print(find_largest([1, 2, 3, 4]))\n",
    "print(find_largest([10, 20, 5]))"
   ]
  },
  {
   "cell_type": "markdown",
   "id": "729e6aab",
   "metadata": {},
   "source": [
    "Exercise 2 : Check for Letter in Word"
   ]
  },
  {
   "cell_type": "code",
   "execution_count": 9,
   "id": "20df738d",
   "metadata": {},
   "outputs": [
    {
     "name": "stdout",
     "output_type": "stream",
     "text": [
      "True\n",
      "False\n"
     ]
    }
   ],
   "source": [
    "def check_letter(word, letter):\n",
    "    return letter in word\n",
    "\n",
    "print(check_letter(\"apple\", \"a\"))\n",
    "print(check_letter(\"banana\", \"z\"))"
   ]
  },
  {
   "cell_type": "markdown",
   "id": "c303a31e",
   "metadata": {},
   "source": [
    "Exercise 3 : Count to a Number "
   ]
  },
  {
   "cell_type": "code",
   "execution_count": 10,
   "id": "553be1dc",
   "metadata": {},
   "outputs": [
    {
     "name": "stdout",
     "output_type": "stream",
     "text": [
      "1\n",
      "2\n",
      "3\n",
      "1\n",
      "2\n",
      "3\n",
      "4\n",
      "5\n"
     ]
    }
   ],
   "source": [
    "# Write a function count_to_number that takes a number as a parameter and prints all numbers from 1 to that number.\n",
    "\n",
    "def count_to_number(number):\n",
    "    for i in range(1, number + 1):\n",
    "        print(i)\n",
    "count_to_number(3)\n",
    "count_to_number(5)"
   ]
  }
 ],
 "metadata": {
  "kernelspec": {
   "display_name": "Python 3",
   "language": "python",
   "name": "python3"
  },
  "language_info": {
   "codemirror_mode": {
    "name": "ipython",
    "version": 3
   },
   "file_extension": ".py",
   "mimetype": "text/x-python",
   "name": "python",
   "nbconvert_exporter": "python",
   "pygments_lexer": "ipython3",
   "version": "3.13.1"
  }
 },
 "nbformat": 4,
 "nbformat_minor": 5
}
