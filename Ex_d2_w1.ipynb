{
 "cells": [
  {
   "cell_type": "markdown",
   "id": "3e08b755",
   "metadata": {},
   "source": [
    "Exercise 1 : Lists "
   ]
  },
  {
   "cell_type": "code",
   "execution_count": null,
   "id": "ddbb60b9",
   "metadata": {},
   "outputs": [
    {
     "name": "stdout",
     "output_type": "stream",
     "text": [
      "1\n",
      "2\n",
      "3\n",
      "4\n"
     ]
    }
   ],
   "source": [
    "#1 Given a list [1, 2, 3, 4], print out all the values in the list one by one.\n",
    "my_list = [1, 2, 3, 4]\n",
    "\n",
    "for number in my_list:\n",
    "    print(number)"
   ]
  },
  {
   "cell_type": "code",
   "execution_count": null,
   "id": "55bc3ed4",
   "metadata": {},
   "outputs": [
    {
     "name": "stdout",
     "output_type": "stream",
     "text": [
      "20\n",
      "40\n",
      "60\n",
      "80\n"
     ]
    }
   ],
   "source": [
    "#2 Given a list [1, 2, 3, 4], print out all the values in the list multiplied by 20.\n",
    "my_list = [1, 2, 3, 4]\n",
    "\n",
    "for number in my_list:\n",
    "    print(number * 20)"
   ]
  },
  {
   "cell_type": "code",
   "execution_count": 16,
   "id": "0d31076b",
   "metadata": {},
   "outputs": [
    {
     "name": "stdout",
     "output_type": "stream",
     "text": [
      "['E', 'T', 'M']\n"
     ]
    }
   ],
   "source": [
    "#3 Given a list [\"Elie\", \"Tim\", \"Matt\"], return a new list with only the first letter of each name: [\"E\", \"T\", \"M\"].\n",
    "names = [\"Elie\", \"Tim\", \"Matt\"]\n",
    "\n",
    "first_letters = [name[0] for name in names]\n",
    "print(first_letters)"
   ]
  },
  {
   "cell_type": "code",
   "execution_count": null,
   "id": "af27ef5e",
   "metadata": {},
   "outputs": [
    {
     "name": "stdout",
     "output_type": "stream",
     "text": [
      "[2, 4, 6]\n"
     ]
    }
   ],
   "source": [
    "#4 Given a list [1, 2, 3, 4, 5, 6], return a new list with all the even values: [2, 4, 6].\n",
    "numbers = [1, 2, 3, 4, 5, 6]\n",
    "\n",
    "even_numbers = [num for num in numbers if num % 2 == 0]\n",
    "print(even_numbers)"
   ]
  },
  {
   "cell_type": "code",
   "execution_count": null,
   "id": "16a7711c",
   "metadata": {},
   "outputs": [
    {
     "name": "stdout",
     "output_type": "stream",
     "text": [
      "[3, 4]\n"
     ]
    }
   ],
   "source": [
    "#5 Given two lists [1, 2, 3, 4] and [3, 4, 5, 6], return a new list that contains only the values present in both lists: [3, 4].\n",
    "list1 = [1, 2, 3, 4]\n",
    "list2 = [3, 4, 5, 6]\n",
    "\n",
    "common_values = [num for num in list1 if num in list2]\n",
    "print(common_values)"
   ]
  },
  {
   "cell_type": "code",
   "execution_count": 6,
   "id": "abb20145",
   "metadata": {},
   "outputs": [
    {
     "name": "stdout",
     "output_type": "stream",
     "text": [
      "['eile', 'mit', 'ttam']\n"
     ]
    }
   ],
   "source": [
    "#6 Given a list of words [\"Elie\", \"Tim\", \"Matt\"], return a new list with each word reversed and in lowercase: [\"eile\", \"mit\", \"ttam\"].\n",
    "words = [\"Elie\", \"Tim\", \"Matt\"]\n",
    "\n",
    "reversed_words = [word.lower()[::-1] for word in words]\n",
    "print(reversed_words)"
   ]
  },
  {
   "cell_type": "code",
   "execution_count": 7,
   "id": "39be55f1",
   "metadata": {},
   "outputs": [
    {
     "name": "stdout",
     "output_type": "stream",
     "text": [
      "['i', 'r', 't']\n"
     ]
    }
   ],
   "source": [
    "#7 Given two strings \"first\" and \"third\", return a new list of the letters that are present in both strings: [\"i\", \"r\", \"t\"].\n",
    "str1 = \"first\"\n",
    "str2 = \"third\"\n",
    "\n",
    "common_letters = [letter for letter in str1 if letter in str2]\n",
    "print(common_letters) "
   ]
  },
  {
   "cell_type": "code",
   "execution_count": 15,
   "id": "5468d23e",
   "metadata": {},
   "outputs": [
    {
     "name": "stdout",
     "output_type": "stream",
     "text": [
      "[12, 24, 36, 48, 60, 72, 84, 96]\n"
     ]
    }
   ],
   "source": [
    "#8 For all numbers between 1 and 100, return a list of the numbers that are divisible by 12: [12, 24, 36, 48, 60, 72, 84, 96].\n",
    "divisible_by_12 = [num for num in range(1, 101) if num % 12 == 0]\n",
    "print(divisible_by_12)"
   ]
  },
  {
   "cell_type": "code",
   "execution_count": 14,
   "id": "74e18f7c",
   "metadata": {},
   "outputs": [
    {
     "name": "stdout",
     "output_type": "stream",
     "text": [
      "['m', 'z', 'n', 'g']\n"
     ]
    }
   ],
   "source": [
    "#9 Given the string \"amazing\", return a list with all the vowels removed: [\"m\", \"z\", \"n\", \"g\"].\n",
    "word = \"amazing\"\n",
    "vowels = \"aeiou\"\n",
    "\n",
    "no_vowels = [letter for letter in word if letter not in vowels]\n",
    "print(no_vowels)"
   ]
  },
  {
   "cell_type": "code",
   "execution_count": 11,
   "id": "46b5f1b7",
   "metadata": {},
   "outputs": [
    {
     "name": "stdout",
     "output_type": "stream",
     "text": [
      "[[0, 1, 2], [0, 1, 2], [0, 1, 2]]\n"
     ]
    }
   ],
   "source": [
    "#10 Generate a list with the following value: [[0, 1, 2], [0, 1, 2], [0, 1, 2]].\n",
    "nested_list = [[i for i in range(3)] for _ in range(3)]\n",
    "print(nested_list)"
   ]
  },
  {
   "cell_type": "code",
   "execution_count": 17,
   "id": "c07730f0",
   "metadata": {},
   "outputs": [
    {
     "name": "stdout",
     "output_type": "stream",
     "text": [
      "[\n",
      "  [0, 1, 2, 3, 4, 5, 6, 7, 8, 9],\n",
      "  [0, 1, 2, 3, 4, 5, 6, 7, 8, 9],\n",
      "  [0, 1, 2, 3, 4, 5, 6, 7, 8, 9],\n",
      "  [0, 1, 2, 3, 4, 5, 6, 7, 8, 9],\n",
      "  [0, 1, 2, 3, 4, 5, 6, 7, 8, 9],\n",
      "  [0, 1, 2, 3, 4, 5, 6, 7, 8, 9],\n",
      "  [0, 1, 2, 3, 4, 5, 6, 7, 8, 9],\n",
      "  [0, 1, 2, 3, 4, 5, 6, 7, 8, 9],\n",
      "  [0, 1, 2, 3, 4, 5, 6, 7, 8, 9],\n",
      "  [0, 1, 2, 3, 4, 5, 6, 7, 8, 9],\n",
      "]\n"
     ]
    }
   ],
   "source": [
    "#11 Generate a list with the following structure:\n",
    "print(\"[\")\n",
    "for row in grid:\n",
    "    print(\"  \" + str(row) + \",\")\n",
    "print(\"]\")"
   ]
  },
  {
   "cell_type": "markdown",
   "id": "a7eebe9c",
   "metadata": {},
   "source": [
    " Exercise 1 : Dictionary"
   ]
  },
  {
   "cell_type": "code",
   "execution_count": 18,
   "id": "67908e28",
   "metadata": {},
   "outputs": [
    {
     "name": "stdout",
     "output_type": "stream",
     "text": [
      "{'name': 'Elie', 'job': 'Instructor'}\n"
     ]
    }
   ],
   "source": [
    "#1 1. Given a list: [(\"name\", \"Elie\"), (\"job\", \"Instructor\")], create a dictionary that looks like this: {'job': 'Instructor', 'name': 'Elie'} (Note: The order does not matter).\n",
    "info = [(\"name\", \"Elie\"), (\"job\", \"Instructor\")]\n",
    "\n",
    "info_dict = dict(info)\n",
    "print(info_dict)"
   ]
  },
  {
   "cell_type": "code",
   "execution_count": 19,
   "id": "9cc7762c",
   "metadata": {},
   "outputs": [
    {
     "name": "stdout",
     "output_type": "stream",
     "text": [
      "{'CA': 'California', 'NJ': 'New Jersey', 'RI': 'Rhode Island'}\n"
     ]
    }
   ],
   "source": [
    "#2 Given two lists: [\"CA\", \"NJ\", \"RI\"] and [\"California\", \"New Jersey\", \"Rhode Island\"], return a dictionary that looks like this: {'CA': 'California', 'NJ': 'New Jersey', 'RI': 'Rhode Island'}.\n",
    "abbreviations = [\"CA\", \"NJ\", \"RI\"]\n",
    "states = [\"California\", \"New Jersey\", \"Rhode Island\"]\n",
    "\n",
    "state_dict = dict(zip(abbreviations, states))\n",
    "print(state_dict)"
   ]
  },
  {
   "cell_type": "code",
   "execution_count": 20,
   "id": "40032f7c",
   "metadata": {},
   "outputs": [
    {
     "name": "stdout",
     "output_type": "stream",
     "text": [
      "{'a': 0, 'e': 0, 'i': 0, 'o': 0, 'u': 0}\n"
     ]
    }
   ],
   "source": [
    "#3 Create a dictionary where the keys are vowels in the alphabet and the values are 0. Your dictionary should look like this: {'a': 0, 'e': 0, 'i': 0, 'o': 0, 'u': 0}. (Do not use the fromkeys method).\n",
    "vowels = \"aeiou\"\n",
    "\n",
    "vowel_dict = {letter: 0 for letter in vowels}\n",
    "print(vowel_dict)"
   ]
  },
  {
   "cell_type": "code",
   "execution_count": 25,
   "id": "15df4672",
   "metadata": {},
   "outputs": [
    {
     "name": "stdout",
     "output_type": "stream",
     "text": [
      "{1: 'A',\n",
      " 2: 'B',\n",
      " 3: 'C',\n",
      " 4: 'D',\n",
      " 5: 'E',\n",
      " 6: 'F',\n",
      " 7: 'G',\n",
      " 8: 'H',\n",
      " 9: 'I',\n",
      " 10: 'J',\n",
      " 11: 'K',\n",
      " 12: 'L',\n",
      " 13: 'M',\n",
      " 14: 'N',\n",
      " 15: 'O',\n",
      " 16: 'P',\n",
      " 17: 'Q',\n",
      " 18: 'R',\n",
      " 19: 'S',\n",
      " 20: 'T',\n",
      " 21: 'U',\n",
      " 22: 'V',\n",
      " 23: 'W',\n",
      " 24: 'X',\n",
      " 25: 'Y',\n",
      " 26: 'Z'}\n"
     ]
    }
   ],
   "source": [
    "#4 Create a dictionary where the key is the position of the letter in the alphabet, and the value is the letter itself. You should return something like this:\n",
    "alphabet_dict = {}\n",
    "\n",
    "for i in range(1, 27):\n",
    "    alphabet_dict[i] = chr(64 + i)\n",
    "\n",
    "# Affichage en colonnes avec {} autour\n",
    "alphabet_dict = {}\n",
    "\n",
    "for i in range(1, 27):\n",
    "    alphabet_dict[i] = chr(64 + i)\n",
    "\n",
    "# Affichage en colonnes avec { sur la même ligne que la première clé,\n",
    "# et } juste après la dernière ligne, sans virgule à la fin.\n",
    "for j, (key, value) in enumerate(alphabet_dict.items()):\n",
    "    if j == 0:\n",
    "        print(f\"{{{key}: '{value}',\")\n",
    "    elif j < len(alphabet_dict) - 1:\n",
    "        print(f\" {key}: '{value}',\")\n",
    "    else:\n",
    "        print(f\" {key}: '{value}'\" + \"}\")"
   ]
  },
  {
   "cell_type": "markdown",
   "id": "515f8a96",
   "metadata": {},
   "source": [
    "Super Bonus:"
   ]
  },
  {
   "cell_type": "code",
   "execution_count": 26,
   "id": "8d2deadc",
   "metadata": {},
   "outputs": [
    {
     "name": "stdout",
     "output_type": "stream",
     "text": [
      "{'a': 2, 'e': 3, 'i': 0, 'o': 1, 'u': 1}\n"
     ]
    }
   ],
   "source": [
    "#Given the string \"awesome sauce\", return a dictionary where the keys are vowels, and the values are the count of each vowel in the string. Your dictionary should look like this: {'a': 2, 'e': 3, 'i': 0, 'o': 1, 'u': 1}.\n",
    "text = \"awesome sauce\"\n",
    "vowels = \"aeiou\"\n",
    "\n",
    "vowel_count = {}\n",
    "\n",
    "for vowel in vowels:\n",
    "    count = text.count(vowel)\n",
    "    vowel_count[vowel] = count\n",
    "\n",
    "print(vowel_count)\n",
    "\n"
   ]
  }
 ],
 "metadata": {
  "kernelspec": {
   "display_name": "Python 3",
   "language": "python",
   "name": "python3"
  },
  "language_info": {
   "codemirror_mode": {
    "name": "ipython",
    "version": 3
   },
   "file_extension": ".py",
   "mimetype": "text/x-python",
   "name": "python",
   "nbconvert_exporter": "python",
   "pygments_lexer": "ipython3",
   "version": "3.13.1"
  }
 },
 "nbformat": 4,
 "nbformat_minor": 5
}
