{
 "cells": [
  {
   "cell_type": "markdown",
   "id": "d08b26ec",
   "metadata": {},
   "source": [
    "Daily challenge - W1_D3"
   ]
  },
  {
   "cell_type": "markdown",
   "id": "9fec581b",
   "metadata": {},
   "source": [
    "Daily challenge: Old MacDonald’s Farm"
   ]
  },
  {
   "cell_type": "code",
   "execution_count": 3,
   "id": "85e2dac9",
   "metadata": {},
   "outputs": [
    {
     "name": "stdout",
     "output_type": "stream",
     "text": [
      "McDonald's farm\n",
      "\n",
      "cow : 5\n",
      "sheep : 2\n",
      "goat : 12\n",
      "\n",
      "    E-I-E-I-0!\n",
      "\n",
      "McDonald's farm has cows, goats and sheeps.\n"
     ]
    }
   ],
   "source": [
    "# 1 : Création de la classe Farm\n",
    "class Farm:\n",
    "    # 2 : Constructeur avec nom de la ferme + dictionnaire vide pour les animaux\n",
    "    def __init__(self, farm_name):\n",
    "        self.name = farm_name\n",
    "        self.animals = {}\n",
    "\n",
    "    # 3 : Ajout d'animaux à la ferme\n",
    "    def add_animal(self, animal_type, count=1):\n",
    "        if animal_type in self.animals:\n",
    "            self.animals[animal_type] += count  # On ajoute au nombre existant\n",
    "        else:\n",
    "            self.animals[animal_type] = count  # On ajoute un nouvel animal avec sa quantité\n",
    "\n",
    "    # 4 : Affiche les animaux et la ferme dans un joli format\n",
    "    def get_info(self):\n",
    "        # Ligne de titre\n",
    "        output = f\"{self.name}'s farm\\n\\n\"\n",
    "\n",
    "        # Affichage des animaux et leur nombre\n",
    "        for animal, count in self.animals.items():\n",
    "            output += f\"{animal} : {count}\\n\"\n",
    "\n",
    "        # Slogan final\n",
    "        output += \"\\n    E-I-E-I-0!\"\n",
    "        return output\n",
    "\n",
    "    # Bonus 6 : Retourne une liste triée des types d’animaux\n",
    "    def get_animal_types(self):\n",
    "        return sorted(self.animals.keys())\n",
    "\n",
    "    # Bonus 7 : Donne une phrase courte avec les animaux au pluriel\n",
    "    def get_short_info(self):\n",
    "        animal_list = self.get_animal_types()\n",
    "        formatted = []\n",
    "\n",
    "        for animal in animal_list:\n",
    "            if self.animals[animal] > 1:\n",
    "                formatted.append(animal + \"s\")  # Pluriel si plus d'un\n",
    "            else:\n",
    "                formatted.append(animal)\n",
    "\n",
    "        # On construit la phrase finale avec virgules et \"et\" avant le dernier\n",
    "        if len(formatted) > 1:\n",
    "            return f\"{self.name}'s farm has {', '.join(formatted[:-1])} and {formatted[-1]}.\"\n",
    "        elif formatted:\n",
    "            return f\"{self.name}'s farm has {formatted[0]}.\"\n",
    "        else:\n",
    "            return f\"{self.name}'s farm has no animals.\"\n",
    "macdonald = Farm(\"McDonald\")\n",
    "macdonald.add_animal('cow', 5)\n",
    "macdonald.add_animal('sheep')\n",
    "macdonald.add_animal('sheep')\n",
    "macdonald.add_animal('goat', 12)\n",
    "\n",
    "print(macdonald.get_info())\n",
    "print()\n",
    "print(macdonald.get_short_info())"
   ]
  }
 ],
 "metadata": {
  "kernelspec": {
   "display_name": "Python 3",
   "language": "python",
   "name": "python3"
  },
  "language_info": {
   "codemirror_mode": {
    "name": "ipython",
    "version": 3
   },
   "file_extension": ".py",
   "mimetype": "text/x-python",
   "name": "python",
   "nbconvert_exporter": "python",
   "pygments_lexer": "ipython3",
   "version": "3.13.1"
  }
 },
 "nbformat": 4,
 "nbformat_minor": 5
}
