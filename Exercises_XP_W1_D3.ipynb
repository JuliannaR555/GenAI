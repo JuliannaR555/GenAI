{
 "cells": [
  {
   "cell_type": "markdown",
   "id": "f6687b8f",
   "metadata": {},
   "source": [
    "Exercises XP - W1_D3"
   ]
  },
  {
   "cell_type": "markdown",
   "id": "26edb2fb",
   "metadata": {},
   "source": [
    "Exercise 1: Cats"
   ]
  },
  {
   "cell_type": "code",
   "execution_count": 3,
   "id": "83d35e0b",
   "metadata": {},
   "outputs": [
    {
     "name": "stdout",
     "output_type": "stream",
     "text": [
      "The oldest cat is Luna, and is 5 years old.\n"
     ]
    }
   ],
   "source": [
    "# Définition de la classe Cat avec un constructeur (__init__) qui initialise le nom et l'âge\n",
    "class Cat:\n",
    "    def __init__(self, cat_name, cat_age):\n",
    "        self.name = cat_name\n",
    "        self.age = cat_age\n",
    "\n",
    "# Étape 1 : Création de 3 objets chat avec des noms et âges différents\n",
    "cat1 = Cat(\"Mimi\", 3)\n",
    "cat2 = Cat(\"Luna\", 5)\n",
    "cat3 = Cat(\"Tigrou\", 2)\n",
    "\n",
    "# Étape 2 : Fonction pour trouver le plus vieux chat parmi les trois\n",
    "def find_oldest_cat(cat1, cat2, cat3):\n",
    "    # On place les trois chats dans une liste\n",
    "    cats = [cat1, cat2, cat3]\n",
    "    # On utilise la fonction max avec une clé : l'âge\n",
    "    oldest = max(cats, key=lambda cat: cat.age)\n",
    "    return oldest\n",
    "\n",
    "# Étape 3 : On appelle la fonction et on affiche les détails du plus vieux chat\n",
    "oldest_cat = find_oldest_cat(cat1, cat2, cat3)\n",
    "print(f\"The oldest cat is {oldest_cat.name}, and is {oldest_cat.age} years old.\")"
   ]
  },
  {
   "cell_type": "markdown",
   "id": "1d9b7337",
   "metadata": {},
   "source": [
    "Exercise 2 : Dogs"
   ]
  },
  {
   "cell_type": "code",
   "execution_count": 4,
   "id": "90f7c374",
   "metadata": {},
   "outputs": [
    {
     "name": "stdout",
     "output_type": "stream",
     "text": [
      "Rex is 50 cm tall.\n",
      "Rex goes woof!\n",
      "Rex jumps 100 cm high!\n",
      "Teacup is 20 cm tall.\n",
      "Teacup goes woof!\n",
      "Teacup jumps 40 cm high!\n",
      "Rex is bigger than Teacup.\n"
     ]
    }
   ],
   "source": [
    "# Étape 1 : Création de la classe Dog\n",
    "class Dog:\n",
    "    # Le constructeur __init__ permet d'initialiser chaque nouvel objet chien\n",
    "    def __init__(self, name, height):\n",
    "        self.name = name      # Attribut qui stocke le nom du chien\n",
    "        self.height = height  # Attribut qui stocke la taille (en cm) du chien\n",
    "\n",
    "    # Méthode pour faire aboyer le chien\n",
    "    def bark(self):\n",
    "        print(f\"{self.name} goes woof!\")  # Affiche un message indiquant que le chien aboie\n",
    "\n",
    "    # Méthode pour faire sauter le chien\n",
    "    def jump(self):\n",
    "        print(f\"{self.name} jumps {self.height * 2} cm high!\")  # Le chien saute le double de sa taille\n",
    "\n",
    "# Étape 2 : Création de deux objets chiens avec des noms et tailles différents\n",
    "davids_dog = Dog(\"Rex\", 50)       # Chien de David, 50 cm de haut\n",
    "sarahs_dog = Dog(\"Teacup\", 20)    # Chien de Sarah, 20 cm de haut\n",
    "\n",
    "# Étape 3 : Affichage des informations sur chaque chien\n",
    "print(f\"{davids_dog.name} is {davids_dog.height} cm tall.\")  # Affiche nom et taille du chien de David\n",
    "davids_dog.bark()   # Appelle la méthode pour faire aboyer Rex\n",
    "davids_dog.jump()   # Appelle la méthode pour faire sauter Rex\n",
    "\n",
    "print(f\"{sarahs_dog.name} is {sarahs_dog.height} cm tall.\")  # Affiche nom et taille du chien de Sarah\n",
    "sarahs_dog.bark()   # Appelle la méthode pour faire aboyer Teacup\n",
    "sarahs_dog.jump()   # Appelle la méthode pour faire sauter Teacup\n",
    "\n",
    "# Étape 4 : Comparaison des tailles des deux chiens\n",
    "if davids_dog.height > sarahs_dog.height:\n",
    "    print(f\"{davids_dog.name} is bigger than {sarahs_dog.name}.\")  # Si Rex est plus grand\n",
    "elif davids_dog.height < sarahs_dog.height:\n",
    "    print(f\"{sarahs_dog.name} is bigger than {davids_dog.name}.\")  # Si Teacup est plus grande\n",
    "else:\n",
    "    print(f\"{davids_dog.name} and {sarahs_dog.name} are the same size.\")  # Si les deux chiens ont la même taille\n"
   ]
  },
  {
   "cell_type": "markdown",
   "id": "6f7a52ed",
   "metadata": {},
   "source": [
    "Exercise 3 : Who’s the song producer?"
   ]
  },
  {
   "cell_type": "code",
   "execution_count": null,
   "id": "e28b40f8",
   "metadata": {},
   "outputs": [
    {
     "name": "stdout",
     "output_type": "stream",
     "text": [
      "There’s a lady who's sure\n",
      "all that glitters is gold\n",
      "and she’s buying a stairway to heaven\n"
     ]
    }
   ],
   "source": [
    "# Étape 1 : Création de la classe Song\n",
    "class Song:\n",
    "    # Le constructeur prend une liste de paroles en paramètre\n",
    "    def __init__(self, lyrics):\n",
    "        self.lyrics = lyrics  # On stocke la liste dans un attribut de l'objet\n",
    "\n",
    "    # Méthode pour chanter la chanson ligne par ligne\n",
    "    def sing_me_a_song(self):\n",
    "        # On parcourt chaque ligne dans la liste de paroles\n",
    "        for line in self.lyrics:\n",
    "            print(line)  # On affiche chaque ligne une par une\n",
    "\n",
    "# On crée un objet 'stairway' avec une liste de paroles\n",
    "stairway = Song([\n",
    "    \"There’s a lady who's sure\",\n",
    "    \"all that glitters is gold\",\n",
    "    \"and she’s buying a stairway to heaven\"\n",
    "])\n",
    "\n",
    "# On appelle la méthode pour chanter la chanson\n",
    "stairway.sing_me_a_song()"
   ]
  },
  {
   "cell_type": "markdown",
   "id": "0a7a3e60",
   "metadata": {},
   "source": [
    "Exercise 4 : Afternoon at the Zoo"
   ]
  },
  {
   "cell_type": "code",
   "execution_count": 8,
   "id": "f8673d37",
   "metadata": {},
   "outputs": [
    {
     "name": "stdout",
     "output_type": "stream",
     "text": [
      "Animals in the zoo: ['Giraffe', 'Bear', 'Baboon']\n",
      "Animals in the zoo: ['Giraffe', 'Baboon']\n",
      "B: ['Baboon']\n",
      "G: ['Giraffe']\n"
     ]
    }
   ],
   "source": [
    "# 1 : Création de la classe Zoo\n",
    "class Zoo:\n",
    "    def __init__(self, zoo_name):\n",
    "        self.name = zoo_name           # Nom du zoo\n",
    "        self.animals = []              # Liste vide pour stocker les animaux\n",
    "        self.animal_groups = {}        # Dictionnaire vide pour stocker les groupes\n",
    "\n",
    "    # Méthode pour ajouter un animal (s'il n'est pas déjà dans la liste)\n",
    "    def add_animal(self, new_animal):\n",
    "        if new_animal not in self.animals:\n",
    "            self.animals.append(new_animal)\n",
    "\n",
    "    # Méthode pour afficher tous les animaux présents\n",
    "    def get_animals(self):\n",
    "        print(\"Animals in the zoo:\", self.animals)\n",
    "\n",
    "    # Méthode pour vendre (supprimer) un animal\n",
    "    def sell_animal(self, animal_sold):\n",
    "        if animal_sold in self.animals:\n",
    "            self.animals.remove(animal_sold)\n",
    "\n",
    "    # Méthode pour trier et grouper les animaux par lettre\n",
    "    def sort_animals(self):\n",
    "        self.animals.sort()  # Trie la liste des animaux alphabétiquement\n",
    "        grouped = {}         # Nouveau dictionnaire pour les groupes\n",
    "\n",
    "        # On parcourt chaque animal dans la liste triée\n",
    "        for animal in self.animals:\n",
    "            first_letter = animal[0].upper()  # On prend la première lettre\n",
    "            if first_letter not in grouped:\n",
    "                grouped[first_letter] = [animal]  # Nouvelle clé\n",
    "            else:\n",
    "                grouped[first_letter].append(animal)  # Ajouter à la clé existante\n",
    "\n",
    "        self.animal_groups = grouped  # On stocke dans l’attribut\n",
    "        return grouped\n",
    "\n",
    "    # Méthode pour afficher les groupes d’animaux\n",
    "    def get_groups(self):\n",
    "        for group, animals in self.animal_groups.items():\n",
    "            print(f\"{group}: {animals}\")\n",
    "\n",
    "# Création d'une instance de Zoo\n",
    "ramat_gan_safari = Zoo(\"Ramat Gan Safari\")\n",
    "\n",
    "# Ajout d'animaux\n",
    "ramat_gan_safari.add_animal(\"Giraffe\")\n",
    "ramat_gan_safari.add_animal(\"Bear\")\n",
    "ramat_gan_safari.add_animal(\"Baboon\")\n",
    "\n",
    "# Affichage des animaux\n",
    "ramat_gan_safari.get_animals()\n",
    "\n",
    "# Suppression (vente) d'un animal\n",
    "ramat_gan_safari.sell_animal(\"Bear\")\n",
    "\n",
    "# Affichage après suppression\n",
    "ramat_gan_safari.get_animals()\n",
    "\n",
    "# Tri et regroupement des animaux\n",
    "ramat_gan_safari.sort_animals()\n",
    "\n",
    "# Affichage des groupes\n",
    "ramat_gan_safari.get_groups()"
   ]
  }
 ],
 "metadata": {
  "kernelspec": {
   "display_name": "Python 3",
   "language": "python",
   "name": "python3"
  },
  "language_info": {
   "codemirror_mode": {
    "name": "ipython",
    "version": 3
   },
   "file_extension": ".py",
   "mimetype": "text/x-python",
   "name": "python",
   "nbconvert_exporter": "python",
   "pygments_lexer": "ipython3",
   "version": "3.13.1"
  }
 },
 "nbformat": 4,
 "nbformat_minor": 5
}
