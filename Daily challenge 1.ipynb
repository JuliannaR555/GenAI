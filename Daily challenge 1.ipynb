{
 "cells": [
  {
   "cell_type": "markdown",
   "id": "cbfe7164",
   "metadata": {},
   "source": [
    "Daily challenge 1 - Day 1"
   ]
  },
  {
   "cell_type": "markdown",
   "id": "e7eedbda",
   "metadata": {},
   "source": [
    "Challenge 1"
   ]
  },
  {
   "cell_type": "code",
   "execution_count": null,
   "id": "20894919",
   "metadata": {},
   "outputs": [
    {
     "name": "stdout",
     "output_type": "stream",
     "text": [
      "7\n",
      "5\n"
     ]
    }
   ],
   "source": [
    "number = int(input(\"Give me a number\"))\n",
    "lenght = int(input(\"Give me your lenght\"))\n",
    "print(number)\n",
    "print(lenght)"
   ]
  },
  {
   "cell_type": "code",
   "execution_count": 10,
   "id": "e2f3d6fc",
   "metadata": {},
   "outputs": [
    {
     "name": "stdout",
     "output_type": "stream",
     "text": [
      "[7, 14, 21, 28, 35]\n"
     ]
    }
   ],
   "source": [
    "multiples = ([number * i for i in range(1, lenght + 1)])\n",
    "print(multiples)"
   ]
  },
  {
   "cell_type": "code",
   "execution_count": 11,
   "id": "265f3e36",
   "metadata": {},
   "outputs": [
    {
     "name": "stdout",
     "output_type": "stream",
     "text": [
      "12\n",
      "10\n"
     ]
    }
   ],
   "source": [
    "number = int(input(\"Give me a number\"))\n",
    "lenght = int(input(\"Give me your lenght\"))\n",
    "print(number)\n",
    "print(lenght)"
   ]
  },
  {
   "cell_type": "code",
   "execution_count": 12,
   "id": "c5bda23d",
   "metadata": {},
   "outputs": [
    {
     "name": "stdout",
     "output_type": "stream",
     "text": [
      "[12, 24, 36, 48, 60, 72, 84, 96, 108, 120]\n"
     ]
    }
   ],
   "source": [
    "multiples = ([number * i for i in range(1, lenght + 1)])\n",
    "print(multiples)"
   ]
  },
  {
   "cell_type": "code",
   "execution_count": 2,
   "id": "8f7d6fdb",
   "metadata": {},
   "outputs": [
    {
     "name": "stdout",
     "output_type": "stream",
     "text": [
      "17\n",
      "6\n"
     ]
    }
   ],
   "source": [
    "number = int(input(\"Give me a number\"))\n",
    "lenght = int(input(\"Give me your lenght\"))\n",
    "print(number)\n",
    "print(lenght)"
   ]
  },
  {
   "cell_type": "code",
   "execution_count": 3,
   "id": "35178bf6",
   "metadata": {},
   "outputs": [
    {
     "name": "stdout",
     "output_type": "stream",
     "text": [
      "[17, 34, 51, 68, 85, 102]\n"
     ]
    }
   ],
   "source": [
    "multiples = ([number * i for i in range(1, lenght + 1)])\n",
    "print(multiples)"
   ]
  },
  {
   "cell_type": "markdown",
   "id": "17148228",
   "metadata": {},
   "source": [
    "Challenge 2"
   ]
  },
  {
   "cell_type": "code",
   "execution_count": 1,
   "id": "e46f0326",
   "metadata": {},
   "outputs": [
    {
     "name": "stdout",
     "output_type": "stream",
     "text": [
      "juliana\n"
     ]
    }
   ],
   "source": [
    "word = input(\"Écris un mot : \")  # Exemple : \"ppoeemm\"\n",
    "\n",
    "# Initialisation : on commence avec le premier caractère (index 0)\n",
    "new_word = word[0]  # new_word = \"p\"\n",
    "\n",
    "# Boucle : on parcourt à partir de l'index 1 jusqu'à la fin\n",
    "for i in range(1, len(word)):\n",
    "    # word[i] = lettre actuelle\n",
    "    # word[i - 1] = lettre précédente\n",
    "    # Exemple : i = 1 → word[1] = \"p\", word[0] = \"p\"\n",
    "\n",
    "    if word[i] != word[i - 1]:  # On vérifie si la lettre actuelle est différente de la précédente\n",
    "        new_word += word[i]     # Si oui, on l’ajoute à new_word\n",
    "\n",
    "# Finalité : on affiche le mot sans lettres doublées côte à côte\n",
    "print(new_word)"
   ]
  }
 ],
 "metadata": {
  "kernelspec": {
   "display_name": "Python 3",
   "language": "python",
   "name": "python3"
  },
  "language_info": {
   "codemirror_mode": {
    "name": "ipython",
    "version": 3
   },
   "file_extension": ".py",
   "mimetype": "text/x-python",
   "name": "python",
   "nbconvert_exporter": "python",
   "pygments_lexer": "ipython3",
   "version": "3.13.1"
  }
 },
 "nbformat": 4,
 "nbformat_minor": 5
}
