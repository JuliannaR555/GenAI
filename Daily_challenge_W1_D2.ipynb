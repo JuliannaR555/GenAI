{
 "cells": [
  {
   "cell_type": "markdown",
   "id": "fcdf8506",
   "metadata": {},
   "source": [
    "Daily Challenge: Dictionaries"
   ]
  },
  {
   "cell_type": "code",
   "execution_count": 3,
   "id": "0f90964a",
   "metadata": {},
   "outputs": [
    {
     "name": "stdout",
     "output_type": "stream",
     "text": [
      "{'d': [0, 2], 'o': [1, 3]}\n"
     ]
    }
   ],
   "source": [
    "# Daily Challenge: Letter Index Mapping\n",
    "\n",
    "# Goal:\n",
    "# Ask the user for a word and create a dictionary that maps each letter \n",
    "# to a list of all the positions (indexes) where it appears.\n",
    "\n",
    "# Example:\n",
    "# Input: \"dodo\"\n",
    "# Output: { 'd': [0, 2], 'o': [1, 3] }\n",
    "\n",
    "# This exercise practices:\n",
    "# - Looping through strings with enumerate()\n",
    "# - Using dictionaries\n",
    "# - Storing multiple values in lists\n",
    "# - Checking if a key exists in a dictionary\n",
    "\n",
    "\n",
    "# Ask the user for a word\n",
    "word = input(\"Enter a word: \")\n",
    "\n",
    "# Initialize an empty dictionary\n",
    "letter_positions = {}\n",
    "\n",
    "# Loop through the word with index\n",
    "for index, letter in enumerate(word):\n",
    "    # If the letter is not already a key, add it with a new list\n",
    "    if letter not in letter_positions:\n",
    "        letter_positions[letter] = [index]\n",
    "    else:\n",
    "        # If it exists, append the index to the existing list\n",
    "        letter_positions[letter].append(index)\n",
    "\n",
    "# Print the result\n",
    "print(letter_positions)\n",
    "\n",
    "# Explanation:\n",
    "# - I used input() to get a word from the user.\n",
    "# - enumerate() helps me get both the index and the letter.\n",
    "# - For each letter:\n",
    "#   - If it doesn’t exist in the dictionary, I create a key and start a list with the current index.\n",
    "#   - If it already exists, I just append the index to the list.\n",
    "# - The final dictionary maps each letter to all the positions it appears in the word.\n",
    "# - This approach is simple and handles repeated letters correctly."
   ]
  }
 ],
 "metadata": {
  "kernelspec": {
   "display_name": "Python 3",
   "language": "python",
   "name": "python3"
  },
  "language_info": {
   "codemirror_mode": {
    "name": "ipython",
    "version": 3
   },
   "file_extension": ".py",
   "mimetype": "text/x-python",
   "name": "python",
   "nbconvert_exporter": "python",
   "pygments_lexer": "ipython3",
   "version": "3.13.1"
  }
 },
 "nbformat": 4,
 "nbformat_minor": 5
}
