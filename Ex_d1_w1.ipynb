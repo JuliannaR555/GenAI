{
 "cells": [
  {
   "cell_type": "markdown",
   "id": "c1581d3a",
   "metadata": {},
   "source": [
    "Exercise 1 : Boolean Logic"
   ]
  },
  {
   "cell_type": "code",
   "execution_count": 1,
   "id": "c9005eae",
   "metadata": {},
   "outputs": [],
   "source": [
    "# 1 Declare a variable called first and assign it to the value \"Hello World\"\n",
    "first = \"Hello World\""
   ]
  },
  {
   "cell_type": "code",
   "execution_count": 2,
   "id": "f64ff270",
   "metadata": {},
   "outputs": [],
   "source": [
    "# 2 Write a comment that says \"This is a comment\"\n",
    "# This is a comment"
   ]
  },
  {
   "cell_type": "code",
   "execution_count": null,
   "id": "d1532d8d",
   "metadata": {},
   "outputs": [
    {
     "name": "stdout",
     "output_type": "stream",
     "text": [
      "I AM A COMPUTER!\n"
     ]
    }
   ],
   "source": [
    "# 3 Log a message to the terminal that says \"I AM A COMPUTER!\"\n",
    "print('I AM A COMPUTER!')"
   ]
  },
  {
   "cell_type": "code",
   "execution_count": 4,
   "id": "77cb6eeb",
   "metadata": {},
   "outputs": [
    {
     "name": "stdout",
     "output_type": "stream",
     "text": [
      "Math if fun.\n"
     ]
    }
   ],
   "source": [
    "# 4 Write an if statement that checks if 1 is less than 2 and if 4 is greater than 2. If it is, show the message \"Math is fun.\"if 1 < 2 and 4 > 2:\n",
    "if 1 < 2 and 4 > 2:\n",
    "    print('Math if fun.')"
   ]
  },
  {
   "cell_type": "code",
   "execution_count": 5,
   "id": "a81befda",
   "metadata": {},
   "outputs": [],
   "source": [
    "# 5 Assign a variable called nope to an absence of value.\n",
    "nope = None"
   ]
  },
  {
   "cell_type": "code",
   "execution_count": 6,
   "id": "d8c5fa9b",
   "metadata": {},
   "outputs": [],
   "source": [
    "# 6 Use the language’s “and” boolean operator to combine the language’s “true” value with its “false” value.\n",
    "result = True and False"
   ]
  },
  {
   "cell_type": "code",
   "execution_count": 12,
   "id": "b4e8334f",
   "metadata": {},
   "outputs": [
    {
     "name": "stdout",
     "output_type": "stream",
     "text": [
      "17\n"
     ]
    }
   ],
   "source": [
    "# 7 Calculate the length of the string \"What's my length?\"\n",
    "length = len(\"What's my Length?\")\n",
    "print(length)"
   ]
  },
  {
   "cell_type": "code",
   "execution_count": 14,
   "id": "b3a325a3",
   "metadata": {},
   "outputs": [
    {
     "name": "stdout",
     "output_type": "stream",
     "text": [
      "I AM SHOUTING\n"
     ]
    }
   ],
   "source": [
    "# 8 Convert the string \"i am shouting\" to uppercase.\n",
    "shouting = \"i am shouting\".upper()\n",
    "print(shouting)"
   ]
  },
  {
   "cell_type": "code",
   "execution_count": 15,
   "id": "8027bad7",
   "metadata": {},
   "outputs": [
    {
     "name": "stdout",
     "output_type": "stream",
     "text": [
      "1000\n"
     ]
    }
   ],
   "source": [
    "# 9 Convert the string \"1000\" to the number 1000.\n",
    "number = int(\"1000\")\n",
    "print(number)"
   ]
  },
  {
   "cell_type": "code",
   "execution_count": 19,
   "id": "0098d364",
   "metadata": {},
   "outputs": [
    {
     "name": "stdout",
     "output_type": "stream",
     "text": [
      "4real\n"
     ]
    }
   ],
   "source": [
    "# 10 Combine the number 4 with the string \"real\" to produce \"4real\".\n",
    "combined = str(4) + \"real\"\n",
    "print(combined)"
   ]
  },
  {
   "cell_type": "code",
   "execution_count": 20,
   "id": "edba8f95",
   "metadata": {},
   "outputs": [
    {
     "name": "stdout",
     "output_type": "stream",
     "text": [
      "coolcoolcool\n"
     ]
    }
   ],
   "source": [
    "# 11 Record the output of the expression 3 * \"cool\"\n",
    "result = 3 * \"cool\"\n",
    "print(result)"
   ]
  },
  {
   "cell_type": "code",
   "execution_count": 21,
   "id": "2e28cef4",
   "metadata": {},
   "outputs": [
    {
     "ename": "ZeroDivisionError",
     "evalue": "division by zero",
     "output_type": "error",
     "traceback": [
      "\u001b[31m---------------------------------------------------------------------------\u001b[39m",
      "\u001b[31mZeroDivisionError\u001b[39m                         Traceback (most recent call last)",
      "\u001b[36mCell\u001b[39m\u001b[36m \u001b[39m\u001b[32mIn[21]\u001b[39m\u001b[32m, line 2\u001b[39m\n\u001b[32m      1\u001b[39m \u001b[38;5;66;03m# 12 Record the output of the expression 1 / 0\u001b[39;00m\n\u001b[32m----> \u001b[39m\u001b[32m2\u001b[39m \u001b[32;43m1\u001b[39;49m\u001b[43m \u001b[49m\u001b[43m/\u001b[49m\u001b[43m \u001b[49m\u001b[32;43m0\u001b[39;49m\n",
      "\u001b[31mZeroDivisionError\u001b[39m: division by zero"
     ]
    }
   ],
   "source": [
    "# 12 Record the output of the expression 1 / 0\n",
    "1 / 0"
   ]
  },
  {
   "cell_type": "code",
   "execution_count": 22,
   "id": "fef8aacd",
   "metadata": {},
   "outputs": [
    {
     "data": {
      "text/plain": [
       "list"
      ]
     },
     "execution_count": 22,
     "metadata": {},
     "output_type": "execute_result"
    }
   ],
   "source": [
    "# 13 Determine the type of []\n",
    "type([])"
   ]
  },
  {
   "cell_type": "code",
   "execution_count": 24,
   "id": "9fe84913",
   "metadata": {},
   "outputs": [
    {
     "name": "stdout",
     "output_type": "stream",
     "text": [
      "Julianna\n"
     ]
    }
   ],
   "source": [
    "# 14 Ask the user for their name, and store it in a variable called name\n",
    "name = input(\"What is your name ?\")\n",
    "print(name)"
   ]
  },
  {
   "cell_type": "code",
   "execution_count": 25,
   "id": "4f470468",
   "metadata": {},
   "outputs": [
    {
     "name": "stdout",
     "output_type": "stream",
     "text": [
      "That number is greater than 0!\n"
     ]
    }
   ],
   "source": [
    "# 15 Ask the user for a number. If the number is negative, show a message that says \"That number is less than 0!\" If the number is positive, show a message that says \"That number is greater than 0!\" Otherwise, show a message that says \"You picked 0!\"\n",
    "number = float(input(\"Enter a number: \"))\n",
    "\n",
    "if number < 0:\n",
    "    print(\"That number is less than 0!\")\n",
    "elif number > 0:\n",
    "    print(\"That number is greater than 0!\")\n",
    "else:\n",
    "    print(\"You picked 0!\")"
   ]
  },
  {
   "cell_type": "code",
   "execution_count": 28,
   "id": "528065ae",
   "metadata": {},
   "outputs": [
    {
     "name": "stdout",
     "output_type": "stream",
     "text": [
      "3\n"
     ]
    }
   ],
   "source": [
    "# 16 Find the index of \"l\" in \"apple\"\n",
    "position = \"apple\".index('l')\n",
    "print(position)\n"
   ]
  },
  {
   "cell_type": "code",
   "execution_count": 30,
   "id": "6701efbc",
   "metadata": {},
   "outputs": [
    {
     "name": "stdout",
     "output_type": "stream",
     "text": [
      "True\n"
     ]
    }
   ],
   "source": [
    "# 17 Check whether \"y\" is in \"xylophone\"\n",
    "result = \"y\" in \"xylophone\"\n",
    "print(result)"
   ]
  },
  {
   "cell_type": "code",
   "execution_count": 35,
   "id": "e5062f65",
   "metadata": {},
   "outputs": [
    {
     "name": "stdout",
     "output_type": "stream",
     "text": [
      "True\n"
     ]
    }
   ],
   "source": [
    "# 18 Check whether a string called my_string is all in lowercase\n",
    "my_string = \"bonjour\"\n",
    "is_lowercase = my_string.islower()\n",
    "print(is_lowercase)"
   ]
  },
  {
   "cell_type": "markdown",
   "id": "0baf9668",
   "metadata": {},
   "source": [
    "Exercise 2 : cat's and dog's years\n"
   ]
  },
  {
   "cell_type": "code",
   "execution_count": 38,
   "id": "555ce7ed",
   "metadata": {},
   "outputs": [],
   "source": [
    "\n",
    "# Définition d'une fonction qui prend en entrée l'âge humain\n",
    "def animal_years(human_years):\n",
    "    if human_years == 1:    # Si l'âge humain est 1 an\n",
    "        cat_years = 15      # 15 ans pour le chat la première année\n",
    "        dog_years = 15      # 15 ans pour le chien la première année\n",
    "    elif human_years == 2:  # Si l'âge humain est 2 ans\n",
    "        cat_years = 15 + 9  # 15 ans la première année + 9 la deuxième\n",
    "        dog_years = 15 + 9  # idem pour le chien\n",
    "    else:                   # Si l'âge humain est supérieur à 2\n",
    "        cat_years = 15 + 9 + (human_years - 2) * 4  # 15 (1ère année) + 9 (2ème année) + 4 pour chaque année supplémentaire pour le chat\n",
    "        dog_years = 15 + 9 + (human_years - 2) * 5  # 15 + 9 + 5 pour chaque année supplémentaire pour le chien\n",
    "    return [human_years, cat_years, dog_years]  # Retourne une liste avec les âges : humain, chat, chien\n"
   ]
  },
  {
   "cell_type": "code",
   "execution_count": 40,
   "id": "15757550",
   "metadata": {},
   "outputs": [
    {
     "name": "stdout",
     "output_type": "stream",
     "text": [
      "[10, 56, 64]\n",
      "[1, 15, 15]\n",
      "[2, 24, 24]\n"
     ]
    }
   ],
   "source": [
    "# Test de la fonction avec différentes valeurs\n",
    "print(animal_years(10))\n",
    "print(animal_years(1))\n",
    "print(animal_years(2))"
   ]
  }
 ],
 "metadata": {
  "kernelspec": {
   "display_name": "Python 3",
   "language": "python",
   "name": "python3"
  },
  "language_info": {
   "codemirror_mode": {
    "name": "ipython",
    "version": 3
   },
   "file_extension": ".py",
   "mimetype": "text/x-python",
   "name": "python",
   "nbconvert_exporter": "python",
   "pygments_lexer": "ipython3",
   "version": "3.13.1"
  }
 },
 "nbformat": 4,
 "nbformat_minor": 5
}
