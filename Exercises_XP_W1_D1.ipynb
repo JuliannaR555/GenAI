{
 "cells": [
  {
   "cell_type": "markdown",
   "id": "d7dae37b",
   "metadata": {},
   "source": [
    "Exercises XP - Week 1 - Day 1"
   ]
  },
  {
   "cell_type": "markdown",
   "id": "91840b99",
   "metadata": {},
   "source": [
    "Exercise 1 : Hello World"
   ]
  },
  {
   "cell_type": "code",
   "execution_count": 1,
   "id": "33e02e54",
   "metadata": {},
   "outputs": [
    {
     "name": "stdout",
     "output_type": "stream",
     "text": [
      "Hello world\n",
      "Hello world\n",
      "Hello world\n",
      "Hello world\n"
     ]
    }
   ],
   "source": [
    "# Print the following output in one line of code:\n",
    "print((\"Hello world\\n\" * 4).strip())\n",
    "\n",
    "# \"Hello world\\n\" → ajoute un retour à la ligne après chaque phrase\n",
    "\n",
    "# * 4 → répète la phrase 4 fois\n",
    "\n",
    "# .strip() → enlève le dernier saut de ligne inutile à la fin"
   ]
  },
  {
   "cell_type": "markdown",
   "id": "b68cbd9a",
   "metadata": {},
   "source": [
    "Exercise 2 : Some Math"
   ]
  },
  {
   "cell_type": "code",
   "execution_count": 6,
   "id": "5c83d236",
   "metadata": {},
   "outputs": [
    {
     "name": "stdout",
     "output_type": "stream",
     "text": [
      "7762392\n"
     ]
    }
   ],
   "source": [
    "#Write code that calculates the result of: (99^3)*8 (meaning 99 to the power of 3, times 8)\n",
    "print((99 ** 3) * 8)\n",
    "\n",
    "\n",
    "# 99 ** 3 signifie 99 élevé à la puissance 3 (c'est-à-dire 99 * 99 * 99)\n",
    "# Ensuite, on multiplie ce résultat par 8"
   ]
  },
  {
   "cell_type": "markdown",
   "id": "97705236",
   "metadata": {},
   "source": [
    "Exercise 3 : What’s your name ?"
   ]
  },
  {
   "cell_type": "code",
   "execution_count": 5,
   "id": "8a948b80",
   "metadata": {},
   "outputs": [
    {
     "name": "stdout",
     "output_type": "stream",
     "text": [
      "Incroyable, nous avons le même prénom !\n"
     ]
    }
   ],
   "source": [
    "# Write code that asks the user for their name and determines whether or not you have the same name, print out a funny message based on the outcome.\n",
    "# Demander à l'utilisateur de saisir son prénom\n",
    "user_name = input(\"Quel est ton prénom ? \")\n",
    "\n",
    "# Définir mon propre prénom pour la comparaison\n",
    "my_name = \"Julianna\"  # Remplace ceci par ton prénom si nécessaire\n",
    "\n",
    "# Comparer les prénoms, en ignorant les majuscules/minuscules\n",
    "if user_name.lower() == my_name.lower():\n",
    "    # Si les prénoms sont identiques\n",
    "    print(\"Incroyable, nous avons le même prénom !\")\n",
    "else:\n",
    "    # Si les prénoms sont différents\n",
    "    print(f\"Enchanté(e), {user_name}. Moi, c’est {my_name}.\")\n",
    "    "
   ]
  },
  {
   "cell_type": "markdown",
   "id": "63e97dbc",
   "metadata": {},
   "source": [
    "Exercise 4 : Tall enough to ride a roller coaster"
   ]
  },
  {
   "cell_type": "code",
   "execution_count": 7,
   "id": "65d627bc",
   "metadata": {},
   "outputs": [
    {
     "name": "stdout",
     "output_type": "stream",
     "text": [
      "Tu es assez grand(e) pour monter sur le manège !\n"
     ]
    }
   ],
   "source": [
    "# Ce programme demande à l'utilisateur sa taille en centimètres\n",
    "# et indique s'il est assez grand pour monter sur un manège\n",
    "\n",
    "# Demander à l'utilisateur de saisir sa taille\n",
    "try:\n",
    "    height = int(input(\"Quelle est ta taille en centimètres ? \"))\n",
    "\n",
    "    # Vérifier si la taille est suffisante pour monter\n",
    "    if height >= 145:\n",
    "        print(\"Tu es assez grand(e) pour monter sur le manège !\")\n",
    "    else:\n",
    "        print(\"Tu dois encore grandir un peu pour pouvoir monter.\")\n",
    "except ValueError:\n",
    "    # Si l'utilisateur n'entre pas un nombre valide\n",
    "    print(\"Veuillez entrer un nombre entier en centimètres.\")\n",
    "\n",
    "# input() : demande la taille à l'utilisateur\n",
    "# int() : convertit la valeur saisie en nombre entier\n",
    "# try/except : permet d'éviter une erreur si l'utilisateur tape autre chose qu'un nombre\n",
    "# if : vérifie si la taille est supérieure ou égale à 145 cm\n"
   ]
  },
  {
   "cell_type": "markdown",
   "id": "ab7f3dad",
   "metadata": {},
   "source": [
    "Exercise 5 : Favorite Numbers"
   ]
  },
  {
   "cell_type": "code",
   "execution_count": 8,
   "id": "83708c16",
   "metadata": {},
   "outputs": [
    {
     "name": "stdout",
     "output_type": "stream",
     "text": [
      "Mes nombres préférés : {3, 7, 42, 21}\n",
      "Nombres préférés de mon ami(e) : {5, 13, 7}\n",
      "Nos nombres préférés réunis : {3, 21, 5, 7, 42, 13}\n"
     ]
    }
   ],
   "source": [
    "# - Un set est une collection non ordonnée et sans doublons\n",
    "# - .add() permet d’ajouter un élément\n",
    "# - .remove() permet d’en supprimer un\n",
    "# - .union() permet de combiner deux sets sans doublons\n",
    "\n",
    "# Créer un set avec tes nombres préférés\n",
    "my_fav_numbers = {3, 7, 21}\n",
    "\n",
    "# Ajouter deux nouveaux nombres\n",
    "my_fav_numbers.add(42)\n",
    "my_fav_numbers.add(99)\n",
    "\n",
    "# Supprimer le dernier nombre ajouté (exemple ici : 99)\n",
    "# Attention : comme les sets sont non ordonnés, il faut savoir ce qu'on retire\n",
    "my_fav_numbers.remove(99)\n",
    "\n",
    "# Créer un autre set avec les nombres préférés de ton ami(e)\n",
    "friend_fav_numbers = {5, 7, 13}\n",
    "\n",
    "# Combiner les deux sets en un seul, sans doublons\n",
    "our_fav_numbers = my_fav_numbers.union(friend_fav_numbers)\n",
    "\n",
    "# Afficher le résultat\n",
    "print(\"Mes nombres préférés :\", my_fav_numbers)\n",
    "print(\"Nombres préférés de mon ami(e) :\", friend_fav_numbers)\n",
    "print(\"Nos nombres préférés réunis :\", our_fav_numbers)"
   ]
  },
  {
   "cell_type": "markdown",
   "id": "2e602ac8",
   "metadata": {},
   "source": [
    "Exercise 6: Tuple"
   ]
  },
  {
   "cell_type": "code",
   "execution_count": 10,
   "id": "9b0b9807",
   "metadata": {},
   "outputs": [
    {
     "name": "stdout",
     "output_type": "stream",
     "text": [
      "Tuple d'origine : (1, 2, 3)\n",
      "Nouveau tuple après ajout : (1, 2, 3, 4, 5)\n"
     ]
    }
   ],
   "source": [
    "# Un tuple est une structure de données immuable (on ne peut pas la modifier une fois créée)\n",
    "# Cela signifie qu'on ne peut pas utiliser .append() ou .add() comme avec les listes ou les sets\n",
    "\n",
    "# Création d'un tuple avec quelques entiers\n",
    "my_tuple = (1, 2, 3)\n",
    "\n",
    "# Essayer d'ajouter un nouvel élément provoquera une erreur\n",
    "# Par exemple, ceci est invalide :\n",
    "# my_tuple.append(4)  # Cela provoque une erreur : 'tuple' object has no attribute 'append'\n",
    "\n",
    "# Pour \"ajouter\" des éléments, on peut créer un **nouveau tuple** en concaténant l'ancien\n",
    "new_tuple = my_tuple + (4, 5)\n",
    "\n",
    "# Affichage des deux tuples\n",
    "print(\"Tuple d'origine :\", my_tuple)\n",
    "print(\"Nouveau tuple après ajout :\", new_tuple)"
   ]
  },
  {
   "cell_type": "markdown",
   "id": "5843bd41",
   "metadata": {},
   "source": [
    "Exercise 7: List Manipulation"
   ]
  },
  {
   "cell_type": "code",
   "execution_count": 11,
   "id": "fa5ce948",
   "metadata": {},
   "outputs": [
    {
     "name": "stdout",
     "output_type": "stream",
     "text": [
      "Nombre de fois que 'Apples' apparaît dans la liste : 2\n",
      "Contenu final de la liste : []\n"
     ]
    }
   ],
   "source": [
    "# Une liste est une structure de données modifiable (mutable)\n",
    "# On peut y ajouter, enlever ou réorganiser des éléments facilement avec des méthodes comme .append(), .remove(), .insert(), etc.\n",
    "\n",
    "# Liste initiale\n",
    "basket = [\"Banana\", \"Apples\", \"Oranges\", \"Blueberries\"]\n",
    "\n",
    "# Supprimer \"Banana\"\n",
    "basket.remove(\"Banana\")\n",
    "\n",
    "# Supprimer \"Blueberries\"\n",
    "basket.remove(\"Blueberries\")\n",
    "\n",
    "# Ajouter \"Kiwi\" à la fin de la liste\n",
    "basket.append(\"Kiwi\")\n",
    "\n",
    "# Ajouter \"Apples\" au début de la liste (index 0)\n",
    "basket.insert(0, \"Apples\")\n",
    "\n",
    "# Compter combien de fois \"Apples\" apparaît dans la liste\n",
    "apples_count = basket.count(\"Apples\")\n",
    "print(f\"Nombre de fois que 'Apples' apparaît dans la liste : {apples_count}\")\n",
    "\n",
    "# Vider complètement la liste\n",
    "basket.clear()\n",
    "\n",
    "# Afficher l'état final de la liste (doit être vide)\n",
    "print(\"Contenu final de la liste :\", basket)"
   ]
  },
  {
   "cell_type": "markdown",
   "id": "bc1b0203",
   "metadata": {},
   "source": [
    "Exercise 8 : Sandwich Orders"
   ]
  },
  {
   "cell_type": "code",
   "execution_count": 12,
   "id": "c00521f8",
   "metadata": {},
   "outputs": [
    {
     "name": "stdout",
     "output_type": "stream",
     "text": [
      "I made your tuna sandwich\n",
      "I made your avocado sandwich\n",
      "I made your egg sandwich\n",
      "I made your chicken sandwich\n"
     ]
    }
   ],
   "source": [
    "# On a une liste de commandes avec plusieurs \"Pastrami sandwich\"\n",
    "# Le deli (le traiteur) est à court de pastrami, donc on doit tous les retirer\n",
    "# Ensuite, on prépare tous les autres sandwiches, un par un\n",
    "\n",
    "# Liste initiale de commandes\n",
    "sandwich_orders = [\n",
    "    \"Tuna sandwich\",\n",
    "    \"Pastrami sandwich\",\n",
    "    \"Avocado sandwich\",\n",
    "    \"Pastrami sandwich\",\n",
    "    \"Egg sandwich\",\n",
    "    \"Chicken sandwich\",\n",
    "    \"Pastrami sandwich\"\n",
    "]\n",
    "\n",
    "# Supprimer tous les \"Pastrami sandwich\" de la liste avec une boucle while\n",
    "while \"Pastrami sandwich\" in sandwich_orders:\n",
    "    sandwich_orders.remove(\"Pastrami sandwich\")\n",
    "\n",
    "# Créer une liste vide pour les sandwiches terminés\n",
    "finished_sandwiches = []\n",
    "\n",
    "# Préparer chaque sandwich restant\n",
    "while sandwich_orders:\n",
    "    # Retirer un sandwich de la liste originale\n",
    "    current_sandwich = sandwich_orders.pop(0)\n",
    "\n",
    "    # Simuler la préparation\n",
    "    print(f\"I made your {current_sandwich.lower()}\")\n",
    "\n",
    "    # Ajouter le sandwich préparé à la liste des sandwiches finis\n",
    "    finished_sandwiches.append(current_sandwich)"
   ]
  }
 ],
 "metadata": {
  "kernelspec": {
   "display_name": "Python 3",
   "language": "python",
   "name": "python3"
  },
  "language_info": {
   "codemirror_mode": {
    "name": "ipython",
    "version": 3
   },
   "file_extension": ".py",
   "mimetype": "text/x-python",
   "name": "python",
   "nbconvert_exporter": "python",
   "pygments_lexer": "ipython3",
   "version": "3.13.1"
  }
 },
 "nbformat": 4,
 "nbformat_minor": 5
}
