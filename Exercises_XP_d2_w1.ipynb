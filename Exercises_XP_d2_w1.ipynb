{
 "cells": [
  {
   "cell_type": "markdown",
   "id": "077f3373",
   "metadata": {},
   "source": [
    "Exercise 1: Converting Lists into Dictionaries"
   ]
  },
  {
   "cell_type": "code",
   "execution_count": 4,
   "id": "6550fe78",
   "metadata": {},
   "outputs": [
    {
     "name": "stdout",
     "output_type": "stream",
     "text": [
      "{'Ten': 10, 'Twenty': 20, 'Thirty': 30}\n"
     ]
    }
   ],
   "source": [
    "# You are given two lists. Convert them into a dictionary where the first list contains the keys and the second list contains the corresponding values.\n",
    "\n",
    "keys = ['Ten', 'Twenty', 'Thirty']\n",
    "values = [10, 20, 30]\n",
    "number_dict = dict(zip(keys, values))\n",
    "print(number_dict)"
   ]
  },
  {
   "cell_type": "markdown",
   "id": "07b7d64b",
   "metadata": {},
   "source": [
    " Exercise 2: Cinemax #2"
   ]
  },
  {
   "cell_type": "code",
   "execution_count": 6,
   "id": "ddefdca2",
   "metadata": {},
   "outputs": [
    {
     "name": "stdout",
     "output_type": "stream",
     "text": [
      "Rick (43 ans) paie $15\n",
      "Beth (13 ans) paie $15\n",
      "Morty (5 ans) paie $10\n",
      "Summer (8 ans) paie $10\n",
      "\n",
      "Coût total des billets : $50\n"
     ]
    }
   ],
   "source": [
    "# Write a program that calculates the total cost of movie tickets for a family based on their ages.\n",
    "# Family members’ ages are stored in a dictionary.\n",
    "# The ticket pricing rules are as follows:\n",
    "# Under 3 years old: Free\n",
    "# 3 to 12 years old: $10\n",
    "# Over 12 years old: $15\n",
    "\n",
    "family = {\"rick\": 43, 'beth': 13, 'morty': 5, 'summer': 8}\n",
    "\n",
    "def ticket_price(age):\n",
    "    if age < 3:\n",
    "        return 0\n",
    "    elif age <= 12:\n",
    "        return 10\n",
    "    else:\n",
    "        return 15\n",
    "\n",
    "total_cost = 0\n",
    "\n",
    "for name, age in family.items():\n",
    "    price = ticket_price(age)\n",
    "    print(f'{name.title()} ({age} ans) paie ${price}')\n",
    "    total_cost += price\n",
    "\n",
    "print(f\"\\nCoût total des billets : ${total_cost}\")"
   ]
  },
  {
   "cell_type": "markdown",
   "id": "da846467",
   "metadata": {},
   "source": [
    "Exercise 3: Zara"
   ]
  },
  {
   "cell_type": "code",
   "execution_count": 30,
   "id": "5478ace6",
   "metadata": {},
   "outputs": [
    {
     "name": "stdout",
     "output_type": "stream",
     "text": [
      "Zara’s clients using : men, women, children, home\n",
      "Dernier concurrent : Desigual\n",
      "Les couleurs principales en US : ['pink', 'green']\n",
      "Nombre de champs dans le dictionnaire : 7\n",
      "Les champs de dictionnaire : ['name', 'creator_name', 'type_of_clothes', 'international_competitors', 'number_stores', 'major_color', 'country_creation']\n"
     ]
    }
   ],
   "source": [
    "# Create and manipulate a dictionary that contains information about the Zara brand.\n",
    "\n",
    "# crétion du dictionnaire de base avec les information de la marque Zara\n",
    "brand = {\n",
    "\"name\": \"Zara\",\n",
    "\"creation_date\": 1975,\n",
    "\"creator_name\": \"Amancio Ortega Gaona\",\n",
    "\"type_of_clothes\": [\"men\", \"women\", \"children\", \"home\"],\n",
    "\"international_competitors\": [\"Gap\", \"H&M\", \"Benetton\"],\n",
    "\"number_stores\": 7000,\n",
    "\"major_color\": { \n",
    "    \"France\": \"blue\", \n",
    "    \"Spain\": \"red\", \n",
    "    \"US\": [\"pink\", \"green\"]\n",
    "    }\n",
    "}\n",
    "\n",
    "# modifier le nombre de magasin\n",
    "brand[\"number_stores\"] = 2\n",
    "\n",
    "# imprimer une phrase sur les clients de Zara\n",
    "print(\"Zara’s clients using :\", \", \".join(brand[\"type_of_clothes\"]))\n",
    "\n",
    "# rajouter une nouvelle champ \"country_creation\"\n",
    "brand[\"country_creation\"] = \"Spain\"\n",
    "\n",
    "# vérifier si international_competitors existent et si oui, rajouter “Desigual” à la liste\n",
    "if \"international_competitors\" in brand:\n",
    "    brand[\"international_competitors\"].append(\"Desigual\")\n",
    "                                            \n",
    "# supprimer la clé \"creation_date\"\n",
    "brand.pop(\"creation_date\")\n",
    "\n",
    "# afficher le dernier concurrent de la liste international_competitors\n",
    "print(\"Dernier concurrent :\", brand[\"international_competitors\"][-1])\n",
    "\n",
    "# afficher les couleurs principales en US\n",
    "print(\"Les couleurs principales en US :\", brand[\"major_color\"][\"US\"])\n",
    "\n",
    "# afficher le nombre de champs dans le dictionnaire\n",
    "print(\"Nombre de champs dans le dictionnaire :\", len(brand))\n",
    "\n",
    "#afficher tout les champs de dictionnaire\n",
    "print(\"Les champs de dictionnaire :\", list(brand.keys()))\n",
    "\n"
   ]
  },
  {
   "cell_type": "code",
   "execution_count": 32,
   "id": "c479b5b0",
   "metadata": {},
   "outputs": [
    {
     "name": "stdout",
     "output_type": "stream",
     "text": [
      "\n",
      "Dictionnaire après fusion avec more_on_zara :\n",
      "{'name': 'Zara', 'creator_name': 'Amancio Ortega Gaona', 'type_of_clothes': ['men', 'women', 'children', 'home'], 'international_competitors': ['Gap', 'H&M', 'Benetton', 'Desigual'], 'number_stores': 10000, 'major_color': {'France': 'blue', 'Spain': 'red', 'US': ['pink', 'green']}, 'country_creation': 'Spain', 'creation_date': 1975}\n"
     ]
    }
   ],
   "source": [
    "# Bonus:\n",
    "# créer un nouveau dictionnaire \"more_on_zara\" avec \"creation_date et number_stores\"\n",
    "# fusionner les deux dictionnaires avec celui d'origine brand et afficher le résultat\n",
    "\n",
    "more_on_zara = {\n",
    "    \"creation_date\": 1975,\n",
    "    \"number_stores\": 10000\n",
    "}\n",
    "\n",
    "brand.update(more_on_zara)\n",
    "\n",
    "print(\"\\nDictionnaire après fusion avec more_on_zara :\")\n",
    "print(brand)"
   ]
  },
  {
   "cell_type": "markdown",
   "id": "cd0dcc7b",
   "metadata": {},
   "source": [
    "Exercise 4 : Some Geography"
   ]
  },
  {
   "cell_type": "code",
   "execution_count": 33,
   "id": "12dca379",
   "metadata": {},
   "outputs": [
    {
     "name": "stdout",
     "output_type": "stream",
     "text": [
      "Reykjavik is in Iceland.\n",
      "Paris is in Unknown.\n",
      "Tokyo is in Japan.\n"
     ]
    }
   ],
   "source": [
    "# 1. Définir une fonction qui accepte deux paramètres\n",
    "# 'country a une valeur par défaut \"Unknown\"\n",
    "\n",
    "def describe_city(city, country='Unknown'):\n",
    "    # 2. Afficher une phrase qui indique ou se trouve la ville\n",
    "    print(f\"{city} is in {country}.\")\n",
    "\n",
    "# 3. Appeler la fonction avec differentes combinaisons\n",
    "\n",
    "# Appel Avec ville et pays\n",
    "describe_city(\"Reykjavik\", \"Iceland\") #Affiche : Reykjavik is in Iceland\n",
    "\n",
    "# Appel avec uniquement la ville (le pays prend la valeur par defaut)\n",
    "describe_city(\"Paris\") # Affiche : Paris is in Unknown\n",
    "\n",
    "# Autre exemple avec un autre pays\n",
    "describe_city(\"Tokyo\", \"Japan\") # Affiche / Tokyo is in Japan.\n"
   ]
  },
  {
   "cell_type": "markdown",
   "id": "9ea7e06e",
   "metadata": {},
   "source": [
    "Exercise 5 : Random"
   ]
  },
  {
   "cell_type": "code",
   "execution_count": 34,
   "id": "40ef13bc",
   "metadata": {},
   "outputs": [
    {
     "name": "stdout",
     "output_type": "stream",
     "text": [
      "Fail! Ton nombre : 50, Nombre aléatoire : 90\n"
     ]
    }
   ],
   "source": [
    "# 1. Importer le module random\n",
    "import random\n",
    "\n",
    "# 2. Définir une fonction qui prend un nombre en paramètre\n",
    "def compare_numbers(user_number):\n",
    "    # 3. Générer un nombre aléatoire entre 1 et 100\n",
    "    random_number = random.randint(1, 100)\n",
    "\n",
    "    # 4. Comparer les deux nombres\n",
    "    if user_number == random_number:\n",
    "        print(\"Success! Les deux nombres sont égaux.\")\n",
    "    else:\n",
    "        print(f\"Fail! Ton nombre : {user_number}, Nombre aléatoire : {random_number}\")\n",
    "\n",
    "# 5. Appeler la fonction avec un nombre entre 1 et 100\n",
    "compare_numbers(50)  # Tu peux changer ce nombre"
   ]
  },
  {
   "cell_type": "markdown",
   "id": "0347d2d9",
   "metadata": {},
   "source": [
    "Exercise 6 : Let’s create some personalized shirts !"
   ]
  },
  {
   "cell_type": "code",
   "execution_count": 36,
   "id": "59005c9f",
   "metadata": {},
   "outputs": [
    {
     "name": "stdout",
     "output_type": "stream",
     "text": [
      "La taille du t-shirt est large et le message est : 'I love Python'.\n",
      "La taille du t-shirt est medium et le message est : 'I love Python'.\n",
      "La taille du t-shirt est small et le message est : 'Custom message'.\n",
      "La taille du t-shirt est small et le message est : 'Hello!'.\n"
     ]
    }
   ],
   "source": [
    "# 1 et 4 : Définir la fonction avec des paramètres par défaut\n",
    "def make_shirt(size=\"large\", text=\"I love Python\"):\n",
    "    # Étape 2 : Afficher un résumé de la commande\n",
    "    print(f\"La taille du t-shirt est {size} et le message est : '{text}'.\")\n",
    "\n",
    "# 5. : Appels de la fonction\n",
    "\n",
    "# T-shirt large avec message par défaut\n",
    "make_shirt()\n",
    "\n",
    "# T-shirt medium avec message par défaut\n",
    "make_shirt(size=\"medium\")\n",
    "\n",
    "# T-shirt small avec message personnalisé\n",
    "make_shirt(\"small\", \"Custom message\")\n",
    "\n",
    "# Étape 6 : Appel avec arguments nommés (keyword arguments)\n",
    "make_shirt(size=\"small\", text=\"Hello!\")"
   ]
  },
  {
   "cell_type": "markdown",
   "id": "e8029ff0",
   "metadata": {},
   "source": [
    "Exercise 7 : Temperature Advice"
   ]
  },
  {
   "cell_type": "code",
   "execution_count": 37,
   "id": "ed0438d9",
   "metadata": {},
   "outputs": [
    {
     "name": "stdout",
     "output_type": "stream",
     "text": [
      "\n",
      "The temperature right now is 18.8 degrees Celsius.\n",
      "Nice weather.\n"
     ]
    }
   ],
   "source": [
    "# On importe le module random pour générer des nombres aléatoires\n",
    "import random\n",
    "\n",
    "# 1 + 4 + 5 : on crée une fonction qui retourne une température aléatoire\n",
    "# La température dépend du mois donné\n",
    "def get_random_temp(month):\n",
    "    # On détermine la saison selon le mois\n",
    "    if month in [12, 1, 2]:  # Hiver\n",
    "        return round(random.uniform(-10.0, 10.0), 1)  # Température avec décimale\n",
    "    elif month in [3, 4, 5]:  # Printemps\n",
    "        return round(random.uniform(10.0, 20.0), 1)\n",
    "    elif month in [6, 7, 8]:  # Été\n",
    "        return round(random.uniform(20.0, 40.0), 1)\n",
    "    elif month in [9, 10, 11]:  # Automne\n",
    "        return round(random.uniform(10.0, 25.0), 1)\n",
    "    else:\n",
    "        # Si le mois est invalide, on retourne une température au hasard classique\n",
    "        return round(random.uniform(-10.0, 40.0), 1)\n",
    "    \n",
    "# 2 + 3 : on crée la fonction principale qui appelle get_random_temp()\n",
    "def main():\n",
    "    try:\n",
    "        # On demande à l'utilisateur le numéro du mois\n",
    "        month = int(input(\"Enter the number of the month (1 to 12): \"))\n",
    "\n",
    "        # On récupère une température aléatoire selon le mois\n",
    "        temp = get_random_temp(month)\n",
    "\n",
    "        # On affiche la température\n",
    "        print(f\"\\nThe temperature right now is {temp} degrees Celsius.\")\n",
    "\n",
    "        # Étape 3 : on affiche un message selon la température\n",
    "        if temp < 0:\n",
    "            print(\"Brrr, that's freezing! Wear some extra layers today.\")\n",
    "        elif temp <= 16:\n",
    "            print(\"Quite chilly! Don't forget your coat.\")\n",
    "        elif temp <= 23:\n",
    "            print(\"Nice weather.\")\n",
    "        elif temp <= 32:\n",
    "            print(\"A bit warm, stay hydrated.\")\n",
    "        else:\n",
    "            print(\"It's really hot! Stay cool.\")\n",
    "\n",
    "    except ValueError:\n",
    "        # Si l'utilisateur entre autre chose qu’un chiffre\n",
    "        print(\"Please enter a valid number between 1 and 12.\")\n",
    "# 5 : on exécute le programme\n",
    "main()"
   ]
  },
  {
   "cell_type": "markdown",
   "id": "0710f459",
   "metadata": {},
   "source": [
    "Exercise 8: Pizza Toppings"
   ]
  },
  {
   "cell_type": "code",
   "execution_count": 3,
   "id": "195d47ec",
   "metadata": {},
   "outputs": [
    {
     "name": "stdout",
     "output_type": "stream",
     "text": [
      "Adding cheese to your pizza.\n",
      "Adding mushrooms to your pizza.\n",
      "\n",
      "Your pizza will have the following toppings:\n",
      "- cheese\n",
      "- mushrooms\n",
      "\n",
      "Total cost: $15.00\n"
     ]
    }
   ],
   "source": [
    "# On crée une liste vide pour stocker les toppings\n",
    "toppings = []\n",
    "\n",
    "# Boucle infinie pour demander les ingrédients\n",
    "while True:\n",
    "    # On demande à l'utilisateur d'entrer un topping\n",
    "    topping = input(\"Enter a pizza topping (or type 'quit' to finish): \")\n",
    "\n",
    "    # Si l'utilisateur tape \"quit\", on sort de la boucle\n",
    "    if topping.lower() == \"quit\":\n",
    "        break\n",
    "\n",
    "    # Sinon, on ajoute l'ingrédient à la liste\n",
    "    toppings.append(topping)\n",
    "    # Et on affiche une confirmation\n",
    "    print(f\"Adding {topping} to your pizza.\")\n",
    "# Prix de base\n",
    "base_price = 10.0\n",
    "\n",
    "# Chaque topping coûte 2.50\n",
    "topping_price = 2.5\n",
    "\n",
    "# Calcul du prix total\n",
    "total_price = base_price + len(toppings) * topping_price\n",
    "\n",
    "# On affiche le récapitulatif\n",
    "print(\"\\nYour pizza will have the following toppings:\")\n",
    "for t in toppings:\n",
    "    print(f\"- {t}\")\n",
    "\n",
    "print(f\"\\nTotal cost: ${total_price:.2f}\")"
   ]
  }
 ],
 "metadata": {
  "kernelspec": {
   "display_name": "Python 3",
   "language": "python",
   "name": "python3"
  },
  "language_info": {
   "codemirror_mode": {
    "name": "ipython",
    "version": 3
   },
   "file_extension": ".py",
   "mimetype": "text/x-python",
   "name": "python",
   "nbconvert_exporter": "python",
   "pygments_lexer": "ipython3",
   "version": "3.13.1"
  }
 },
 "nbformat": 4,
 "nbformat_minor": 5
}
