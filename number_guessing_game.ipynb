{
 "cells": [
  {
   "cell_type": "markdown",
   "id": "8ce7fd65",
   "metadata": {},
   "source": [
    "Exam 1 : Number Guessing Game Project - Mandatory\n",
    "Project Overview\n",
    "\n",
    "This project involves creating a simple Number Guessing Game using Python. The program will generate a random number between 1 and 100, and the player will have a limited number of attempts to guess the correct number. After each guess, the program will provide feedback, indicating whether the guess is too low, too high, or correct."
   ]
  },
  {
   "cell_type": "markdown",
   "id": "16a97e49",
   "metadata": {},
   "source": [
    "Step 1: Set up the project"
   ]
  },
  {
   "cell_type": "code",
   "execution_count": 4,
   "id": "e86a3f58",
   "metadata": {},
   "outputs": [],
   "source": [
    "import random"
   ]
  },
  {
   "cell_type": "markdown",
   "id": "09f23363",
   "metadata": {},
   "source": [
    "Step 2: Write the game logic"
   ]
  },
  {
   "cell_type": "code",
   "execution_count": null,
   "id": "70cdfb79",
   "metadata": {},
   "outputs": [],
   "source": [
    "# 1. Create a function called number_guessing_game() that contains the main logic of the game.\n",
    "#1. Défénir les variables\n",
    "#random_number\n",
    "#max_attempts\n",
    "#2. loop for i in ?\n",
    "#guess=int(input())\n",
    "#3. if\n",
    "#elif\n",
    "#else\n",
    "\n",
    "def number_guessing_game():\n",
    "# 2. Inside the function, generate a random number between 1 and 100 using random.randint(1, 100).\n",
    "    random_number = random.randint(1, 100)\n",
    "\n",
    "# 3. Define the maximum number of attempts the player can have, for example, 7.\n",
    "    max_attempts = 7\n",
    "\n",
    "# 4. Use a for loop to give the player a limited number of attempts (7 in this case).\n",
    "\n",
    "for atteiat\n",
    "\n",
    "\n"
   ]
  },
  {
   "cell_type": "code",
   "execution_count": 11,
   "id": "405fc044",
   "metadata": {},
   "outputs": [
    {
     "name": "stdout",
     "output_type": "stream",
     "text": [
      "Trop petit !\n",
      "Trop petit !\n",
      "Trop petit !\n",
      "Trop petit !\n",
      "Trop petit !\n",
      "Trop grand !\n",
      "Trop grand !\n",
      "Désolé, tu as utilisé tous les 7 essaies. La réponse correct est 97.\n"
     ]
    }
   ],
   "source": [
    "def number_guessing_game():\n",
    "\n",
    "    #Define variables\n",
    "\n",
    "    random_number = random.randint(1, 101)\n",
    "    attempts = 7\n",
    "\n",
    "    for i in range(1, attempts+1):\n",
    "        guess = int(input(f\"Essai {i}/{attempts} - Devine le nombre entre 1 et 100 : \"))\n",
    "\n",
    "        if guess < random_number:\n",
    "            print(\"Trop petit !\")\n",
    "        elif guess > random_number:\n",
    "            print(\"Trop grand !\")\n",
    "        else :\n",
    "            print(f\"Bravo ! Tu as trouvé le nombre {random_number} en {i} essais.\")\n",
    "            break\n",
    "    else:\n",
    "        print(f\"Désolé, tu as utilisé tous les {attempts} essaies. La réponse correct est {random_number}.\")\n",
    "\n",
    "number_guessing_game()\n",
    "\n"
   ]
  }
 ],
 "metadata": {
  "kernelspec": {
   "display_name": "Python 3",
   "language": "python",
   "name": "python3"
  },
  "language_info": {
   "codemirror_mode": {
    "name": "ipython",
    "version": 3
   },
   "file_extension": ".py",
   "mimetype": "text/x-python",
   "name": "python",
   "nbconvert_exporter": "python",
   "pygments_lexer": "ipython3",
   "version": "3.13.1"
  }
 },
 "nbformat": 4,
 "nbformat_minor": 5
}
